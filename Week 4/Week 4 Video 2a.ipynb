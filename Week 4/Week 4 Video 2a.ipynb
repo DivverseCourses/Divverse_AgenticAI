{
 "cells": [
  {
   "cell_type": "markdown",
   "metadata": {},
   "source": [
    "`Simple Chain using LCEL`"
   ]
  },
  {
   "cell_type": "code",
   "execution_count": 1,
   "metadata": {},
   "outputs": [
    {
     "name": "stdout",
     "output_type": "stream",
     "text": [
      "I'd be delighted to share some interesting facts about Afrobeats with you! Here are three:\n",
      "\n",
      "1. **Afrobeats is a fusion of traditional Yoruba music and American funk**: Afrobeats originated in the 1960s in West Africa, particularly in Nigeria. It's a fusion of traditional Yoruba music, American funk, and other international styles. The genre's pioneers, such as Fela Kuti and King Sunny Adé, drew inspiration from the rhythms and melodies of traditional Yoruba music, combined with the energetic beats and horn sections of American funk. This unique blend gave birth to the distinctive sound we know as Afrobeats today.\n",
      "\n",
      "2. **Afrobeats has a strong connection to the Afrobeat movement**: Afrobeats is often associated with the Afrobeat movement, a cultural and artistic movement that emerged in the 1960s and 1970s in West Africa. The movement aimed to promote African culture, resist colonialism, and challenge social and political injustices. Afrobeats music became a powerful tool for social commentary, with artists like Fela Kuti using their music to speak out against corruption, oppression, and inequality.\n",
      "\n",
      "3. **Afrobeats has influenced global music genres**: Afrobeats has had a significant impact on global music genres, particularly in the 1990s and 2000s. Artists like Wizkid, Davido, and Tiwa Savage have taken Afrobeats to international audiences, blending it with other styles like R&B, pop, and hip-hop. This fusion has led to the creation of new sub-genres like Afropop, Afrobeats-infused R&B, and Afrobeats-inspired electronic music. Afrobeats has also influenced artists outside of Africa, such as Drake, Kanye West, and Beyoncé, who have incorporated Afrobeats elements into their music.\n",
      "\n",
      "I hope you found these facts interesting! Do you have any other questions about Afrobeats?\n"
     ]
    }
   ],
   "source": [
    "from dotenv import load_dotenv\n",
    "from langchain.prompts import ChatPromptTemplate\n",
    "from langchain.schema.output_parser import StrOutputParser\n",
    "from langchain_groq import ChatGroq\n",
    "\n",
    "load_dotenv()\n",
    "\n",
    "llm = ChatGroq(\n",
    "    model=\"llama3-8b-8192\",\n",
    "    temperature=0,\n",
    "    max_tokens=None,\n",
    "    timeout=None,\n",
    "    max_retries=2,\n",
    ")\n",
    "\n",
    "prompt_template = ChatPromptTemplate.from_messages(\n",
    "    [\n",
    "        (\"system\", \"You are an expert in Nigerian music who shares interesting facts about {topic}.\"),\n",
    "        (\"human\", \"Tell me {fact_count} interesting facts.\"),\n",
    "    ]\n",
    ")\n",
    "\n",
    "chain = prompt_template | llm | StrOutputParser()\n",
    "\n",
    "result = chain.invoke({\"topic\": \"Afrobeats\", \"fact_count\": 3})\n",
    "\n",
    "print(result)"
   ]
  },
  {
   "cell_type": "markdown",
   "metadata": {},
   "source": [
    "`Simple Chain with Runnable Sequence` "
   ]
  },
  {
   "cell_type": "code",
   "execution_count": 3,
   "metadata": {},
   "outputs": [
    {
     "name": "stdout",
     "output_type": "stream",
     "text": [
      "I'd be delighted to share some interesting facts about Afrobeats with you! Here are three:\n",
      "\n",
      "1. **Afrobeats is a fusion of traditional Yoruba music and American funk**: Afrobeats originated in the 1960s in West Africa, particularly in Nigeria. It's a fusion of traditional Yoruba music, American funk, and other international styles. The genre's pioneers, such as Fela Kuti and King Sunny Adé, drew inspiration from the rhythms and melodies of traditional Yoruba music, combined with the energetic beats and horn sections of American funk. This unique blend gave birth to the distinctive sound we know as Afrobeats today.\n",
      "\n",
      "2. **Afrobeats has a strong connection to the Afrobeat movement**: Afrobeats is often associated with the Afrobeat movement, a cultural and artistic movement that emerged in the 1960s and 1970s in West Africa. The movement aimed to promote African culture, resist colonialism, and challenge social and political injustices. Afrobeats music became a powerful tool for social commentary, with artists like Fela Kuti using their music to speak out against corruption, oppression, and inequality.\n",
      "\n",
      "3. **Afrobeats has influenced global music genres**: Afrobeats has had a significant impact on global music genres, particularly in the 1990s and 2000s. Artists like Wizkid, Davido, and Tiwa Savage have taken Afrobeats to international audiences, blending it with other styles like R&B, pop, and hip-hop. This fusion has led to the creation of new sub-genres like Afropop and Afrobeats-infused trap. Afrobeats has also influenced genres like dancehall, reggae, and electronic music, with artists like Major Lazer and Diplo incorporating Afrobeats elements into their productions.\n",
      "\n",
      "I hope you found these facts interesting! Do you have any other questions about Afrobeats?\n"
     ]
    }
   ],
   "source": [
    "from dotenv import load_dotenv\n",
    "from langchain.prompts import ChatPromptTemplate\n",
    "from langchain.schema.runnable import RunnableLambda, RunnableSequence\n",
    "from langchain_groq import ChatGroq\n",
    "\n",
    "load_dotenv()\n",
    "\n",
    "llm = ChatGroq(\n",
    "    model=\"llama3-8b-8192\",\n",
    "    temperature=0,\n",
    "    max_tokens=None,\n",
    "    timeout=None,\n",
    "    max_retries=2,\n",
    ")\n",
    "\n",
    "prompt_template = ChatPromptTemplate.from_messages(\n",
    "    [\n",
    "        (\"system\", \"You are an expert in Nigerian music who shares interesting facts about {topic}.\"),\n",
    "        (\"human\", \"Tell me {fact_count} interesting facts.\"),\n",
    "    ]\n",
    ")\n",
    "\n",
    "format_prompt = RunnableLambda(lambda x: prompt_template.format_prompt(**x))\n",
    "invoke_model = RunnableLambda(lambda x: llm.invoke(x))\n",
    "parse_output = RunnableLambda(lambda x: x.content)\n",
    "\n",
    "chain = RunnableSequence(first=format_prompt, middle=[invoke_model], last=parse_output)\n",
    "\n",
    "result = chain.invoke({\"topic\": \"Afrobeats\", \"fact_count\": 3})\n",
    "\n",
    "print(result)"
   ]
  }
 ],
 "metadata": {
  "kernelspec": {
   "display_name": "Python 3.11.5 64-bit",
   "language": "python",
   "name": "python3"
  },
  "language_info": {
   "codemirror_mode": {
    "name": "ipython",
    "version": 3
   },
   "file_extension": ".py",
   "mimetype": "text/x-python",
   "name": "python",
   "nbconvert_exporter": "python",
   "pygments_lexer": "ipython3",
   "version": "3.11.5"
  },
  "orig_nbformat": 4,
  "vscode": {
   "interpreter": {
    "hash": "e7421b2e8129b806acc53724fe4148ce7796e798f19ab33b4a2af02b8d0aa638"
   }
  }
 },
 "nbformat": 4,
 "nbformat_minor": 2
}
