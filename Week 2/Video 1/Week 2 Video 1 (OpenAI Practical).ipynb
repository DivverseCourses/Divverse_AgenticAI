{
 "cells": [
  {
   "cell_type": "markdown",
   "metadata": {},
   "source": [
    "### Conversational AI Implementation using OpenAI API"
   ]
  },
  {
   "cell_type": "code",
   "execution_count": 1,
   "metadata": {},
   "outputs": [
    {
     "name": "stdout",
     "output_type": "stream",
     "text": [
      "Performing a backflip is an advanced gymnastics move that requires strength, coordination, and practice. It's important to learn this move safely to avoid injury. Ideally, you should train under the supervision of a coach or in a facility with proper equipment such as a gymnastics gym. Here’s a general guideline:\n",
      "\n",
      "### Preparation and Conditioning\n",
      "1. **Physical Condition**: Ensure you have good overall strength, flexibility, and fitness. Core strength, leg power, and back flexibility are crucial for backflips.\n",
      "   \n",
      "2. **Trampoline Practice**: Start practicing backflips on a trampoline to get used to the motion. This gives you extra height and a forgiving landing surface.\n",
      "   \n",
      "3. **Spotter and Mat**: Always practice with a spotter and use a soft mat or pit. A coach or experienced spotter can guide you and help ensure safety.\n",
      "\n",
      "### Steps for a Backflip\n",
      "1. **Stance**:\n",
      "   - Start with your feet shoulder-width apart, arms up, and slightly bend your knees.\n",
      "\n",
      "2. **Set**:\n",
      "   - Swing your arms downward and then up quickly while jumping straight up. Your arms should provide momentum when you swing them up.\n",
      "\n",
      "3. **Jump**:\n",
      "   - Push off your toes and extend your body straight up with your chest up, looking forward, not down at the ground.\n",
      "\n",
      "4. **Tuck**:\n",
      "   - At the peak of your jump, bring your knees toward your chest, grabbing your shins or knees. This tight position allows you to rotate faster.\n",
      "\n",
      "5. **Rotation**:\n",
      "   - Keep your head in a neutral position. Do not throw it back as it can lead to poor form and neck injuries. Focus on a high tuck instead.\n",
      "\n",
      "6. **Spotting the Landing**:\n",
      "   - As you complete the rotation, start to open up your body to slow down the spin. Look for the ground, open your arms, and extend your legs.\n",
      "\n",
      "7. **Landing**:\n",
      "   - Land on the balls of your feet with your knees slightly bent to absorb the impact. Maintain balance by keeping your arms in front of you.\n",
      "\n",
      "### Safety Tips\n",
      "- **Start on Soft Surfaces**: Begin learning in a foam pit or on a trampoline.\n",
      "- **Use a Spotter**: A coach or spotter should guide you through the motion and help with your first attempts.\n",
      "- **Proper Equipment**: Use mats, foam pits, or other cushioning surfaces.\n",
      "- **Understand Your Limits**: Don’t rush the learning process, and work on each component (jump, tuck, rotation) as individual skills.\n",
      "\n",
      "### Additional Training\n",
      "- **Strength Training**: Focus on exercises that build leg, core, and back strength, such as squats, lunges, planks, and bridges.\n",
      "- **Flexibility**: Stretch regularly to improve flexibility in your legs, back, and shoulders.\n",
      "- **Progressive Practice**: Work on progressions such as jumping drills, backward rolls, and back handsprings (with guidance).\n",
      "\n",
      "Remember, safety first! Consider observing certified gymnasts perform the move, and never attempt a backflip without guidance if you’re inexperienced.\n"
     ]
    }
   ],
   "source": [
    "from openai import OpenAI\n",
    "from dotenv import load_dotenv\n",
    "\n",
    "load_dotenv()\n",
    "\n",
    "client = OpenAI()\n",
    "\n",
    "# Define a variable for the chat completion\n",
    "response = client.chat.completions.create(\n",
    "    model='gpt-4o',\n",
    "    messages=[\n",
    "        {\"role\": \"system\", \"content\": \"You are a helpful assistant.\"},\n",
    "        {\"role\": \"user\", \"content\": 'Teach me how to do a backflip'}\n",
    "    ]\n",
    ")\n",
    "# Extract and return the assistant's reply\n",
    "ai_response = response.choices[0].message.content\n",
    "\n",
    "print(ai_response)"
   ]
  },
  {
   "cell_type": "code",
   "execution_count": null,
   "metadata": {},
   "outputs": [],
   "source": []
  }
 ],
 "metadata": {
  "kernelspec": {
   "display_name": "Python 3.11.5 64-bit",
   "language": "python",
   "name": "python3"
  },
  "language_info": {
   "codemirror_mode": {
    "name": "ipython",
    "version": 3
   },
   "file_extension": ".py",
   "mimetype": "text/x-python",
   "name": "python",
   "nbconvert_exporter": "python",
   "pygments_lexer": "ipython3",
   "version": "3.11.5"
  },
  "orig_nbformat": 4,
  "vscode": {
   "interpreter": {
    "hash": "e7421b2e8129b806acc53724fe4148ce7796e798f19ab33b4a2af02b8d0aa638"
   }
  }
 },
 "nbformat": 4,
 "nbformat_minor": 2
}
