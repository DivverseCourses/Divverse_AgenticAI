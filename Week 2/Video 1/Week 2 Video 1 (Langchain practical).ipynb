{
 "cells": [
  {
   "cell_type": "markdown",
   "metadata": {},
   "source": [
    "### Conversational AI Implementation using Groq on Langchain"
   ]
  },
  {
   "cell_type": "code",
   "execution_count": 1,
   "metadata": {},
   "outputs": [
    {
     "name": "stdout",
     "output_type": "stream",
     "text": [
      "I'd be happy to help! However, I have to advise that attempting a backflip without proper training and supervision can be dangerous and potentially harmful. Backflips require a high level of strength, flexibility, and coordination, and it's essential to learn them from a qualified instructor or coach.\n",
      "\n",
      "That being said, if you're still interested in learning how to do a backflip, here are some general steps and tips to get you started:\n",
      "\n",
      "1. Start with the basics: Before attempting a backflip, make sure you have a solid foundation in gymnastics or acrobatics. This includes mastering basic skills such as handstands, cartwheels, and bridges.\n",
      "2. Warm up properly: Before attempting a backflip, make sure you warm up your muscles with some light cardio and stretching exercises. This will help prevent injuries and improve your flexibility.\n",
      "3. Find a safe spot: Look for a soft, padded surface such as a gymnastics mat or a grassy area. Avoid attempting a backflip on hard surfaces like concrete or wood.\n",
      "4. Get into position: Stand with your feet shoulder-width apart and your hands on your hips. Take a few steps back and then jump forward, landing on both feet.\n",
      "5. Tuck and flip: As you jump, tuck your knees up to your chest and flip your body backwards. Keep your arms and legs straight and your body in a straight line from head to heels.\n",
      "6. Rotate and land: As you flip, rotate your body 360 degrees and land on both feet. Try to absorb the impact by bending your knees and rolling forward.\n",
      "\n",
      "Some additional tips to keep in mind:\n",
      "\n",
      "* Start with a smaller flip and gradually increase the height and distance as you become more comfortable.\n",
      "* Practice with a spotter or coach who can provide guidance and support.\n",
      "* Focus on proper technique and form to avoid injuries.\n",
      "* Don't be afraid to take breaks and rest if you're feeling tired or uncomfortable.\n",
      "\n",
      "Remember, learning a backflip takes time, patience, and practice. It's essential to prioritize safety and work with a qualified instructor or coach to ensure you're learning proper technique and avoiding injuries.\n"
     ]
    }
   ],
   "source": [
    "from langchain_groq import ChatGroq\n",
    "from dotenv import load_dotenv\n",
    "\n",
    "load_dotenv()\n",
    "\n",
    "llm = ChatGroq(\n",
    "    model=\"llama3-8b-8192\",\n",
    "    temperature=0,\n",
    "    max_tokens=None,\n",
    "    timeout=None,\n",
    "    max_retries=2,\n",
    ")\n",
    "\n",
    "messages = [\n",
    "    (\n",
    "        \"system\",\n",
    "        \"You are a helpful assistant\",\n",
    "    ),\n",
    "    (\"human\", \"Teach me how to do a backflip\"),\n",
    "]\n",
    "\n",
    "response = llm.invoke(messages)\n",
    "print(response.content)"
   ]
  },
  {
   "cell_type": "code",
   "execution_count": null,
   "metadata": {},
   "outputs": [],
   "source": []
  }
 ],
 "metadata": {
  "kernelspec": {
   "display_name": "Python 3.11.5 64-bit",
   "language": "python",
   "name": "python3"
  },
  "language_info": {
   "codemirror_mode": {
    "name": "ipython",
    "version": 3
   },
   "file_extension": ".py",
   "mimetype": "text/x-python",
   "name": "python",
   "nbconvert_exporter": "python",
   "pygments_lexer": "ipython3",
   "version": "3.11.5"
  },
  "orig_nbformat": 4,
  "vscode": {
   "interpreter": {
    "hash": "e7421b2e8129b806acc53724fe4148ce7796e798f19ab33b4a2af02b8d0aa638"
   }
  }
 },
 "nbformat": 4,
 "nbformat_minor": 2
}
