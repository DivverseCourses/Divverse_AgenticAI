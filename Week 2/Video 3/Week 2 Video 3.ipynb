{
 "cells": [
  {
   "cell_type": "markdown",
   "metadata": {},
   "source": [
    "### Multi-turn conversation with OpenAI API"
   ]
  },
  {
   "cell_type": "code",
   "execution_count": 1,
   "metadata": {},
   "outputs": [
    {
     "name": "stdout",
     "output_type": "stream",
     "text": [
      "AI Response: Performing a backflip is quite challenging and potentially dangerous if not done correctly. It involves a lot of strength and balance, as well as confidence. Therefore, it's advised to learn this with the help of a professional coach in a safe environment (gym or a training facility with mats or a foam pit).\n",
      "\n",
      "However, I can give you a general explanation of the steps involved:\n",
      "\n",
      "1. **Warm Up:** Always start with a good warmup to protect against injury. This includes a few minutes of light cardio followed by stretching.\n",
      "\n",
      "2. **The Takeoff:** Stand tall, feet shoulder-width apart. Then swing your arms down by your sides and bend your knees into a squat position. Jump off the ground with both feet at the same time, and at the peak of your jump, tuck your knees in toward your chest. \n",
      "\n",
      "3. **Mid-air Rotation:** As you jump, swing your arms toward the sky, which will provide the rotation you need for the backflip. Also tuck your knees in tightly to your chest and try to keep your head neutral (don't look over your shoulder, it can slow down rotation).\n",
      "\n",
      "4. **The Landing:** Spot the ground as you come round to complete the flip. Extend your legs and prepare for the landing. Bend your knees slightly to absorb the impact.\n",
      "\n",
      "5. **Practice:** You're going to need a lot of attempts to land this, so don’t feel disheartened if it doesn't work the first few times. \n",
      "\n",
      "Again, it's very important not to try such advanced moves without professional help to avoid serious injuries. You could also use extra safety gear, like a helmet and pads.\n",
      "AI Response: Of course! The last thing you asked me was for instructions on how to do a backflip.\n",
      "\n",
      "\n",
      "AI Response: You're welcome! If you have any other questions, feel free to ask. Safe training!\n",
      "\n",
      "\n",
      "Conversation ended.\n"
     ]
    }
   ],
   "source": [
    "from openai import OpenAI\n",
    "from dotenv import load_dotenv\n",
    "\n",
    "load_dotenv()\n",
    "\n",
    "client = OpenAI()\n",
    "\n",
    "# Define a variable for the chat completion\n",
    "messages = [\n",
    "    {\"role\": \"system\", \"content\": \"You are a helpful assistant.\"},\n",
    "    {\"role\": \"user\", \"content\": \"Teach me how to do a backflip\"}\n",
    "]\n",
    "\n",
    "# Initial response\n",
    "response = client.chat.completions.create(\n",
    "    model='gpt-4',\n",
    "    messages=messages\n",
    ")\n",
    "ai_response = response.choices[0].message.content\n",
    "print(\"AI Response:\", ai_response)\n",
    "\n",
    "messages.append({\"role\": \"assistant\", \"content\": ai_response})\n",
    "\n",
    "# Allow for two more conversation rounds\n",
    "for _ in range(2):\n",
    "    user_input = input(\"You:\")\n",
    "    messages.append({\"role\": \"user\", \"content\": user_input})\n",
    "\n",
    "    response = client.chat.completions.create(\n",
    "        model='gpt-4',\n",
    "        messages=messages\n",
    "    )\n",
    "    ai_response = response.choices[0].message.content\n",
    "    print(\"AI Response:\", f\"{ai_response}\\n\\n\")\n",
    "    messages.append({\"role\": \"assistant\", \"content\": ai_response})\n",
    "\n",
    "print(\"Conversation ended.\")\n"
   ]
  },
  {
   "cell_type": "markdown",
   "metadata": {},
   "source": [
    "### Multi-turn conversation with Langchain memory module"
   ]
  },
  {
   "cell_type": "code",
   "execution_count": 2,
   "metadata": {},
   "outputs": [],
   "source": [
    "from langchain.chains.conversation.memory import ConversationBufferMemory, ConversationSummaryMemory, ConversationBufferWindowMemory\n",
    "from langchain.memory import ConversationTokenBufferMemory\n",
    "from langchain_groq import ChatGroq\n",
    "from dotenv import load_dotenv\n",
    "\n",
    "load_dotenv()\n",
    "\n",
    "llm = ChatGroq(\n",
    "    model=\"llama3-8b-8192\",\n",
    "    temperature=0.5,\n",
    "    max_tokens=None,\n",
    "    timeout=None,\n",
    "    max_retries=2,\n",
    ")"
   ]
  },
  {
   "cell_type": "markdown",
   "metadata": {},
   "source": [
    "`ConversationBuffer Memory`"
   ]
  },
  {
   "cell_type": "code",
   "execution_count": 3,
   "metadata": {},
   "outputs": [
    {
     "name": "stderr",
     "output_type": "stream",
     "text": [
      "C:\\Users\\okwy_\\AppData\\Local\\Temp\\ipykernel_32524\\3383638983.py:16: LangChainDeprecationWarning: Please see the migration guide at: https://python.langchain.com/docs/versions/migrating_memory/\n",
      "  memory = ConversationBufferMemory(\n",
      "C:\\Users\\okwy_\\AppData\\Local\\Temp\\ipykernel_32524\\3383638983.py:23: LangChainDeprecationWarning: The class `ConversationChain` was deprecated in LangChain 0.2.7 and will be removed in 1.0. Use :meth:`~RunnableWithMessageHistory: https://python.langchain.com/v0.2/api_reference/core/runnables/langchain_core.runnables.history.RunnableWithMessageHistory.html` instead.\n",
      "  conversation = ConversationChain(\n"
     ]
    },
    {
     "name": "stdout",
     "output_type": "stream",
     "text": [
      "\n",
      "\n",
      "\u001b[1m> Entering new ConversationChain chain...\u001b[0m\n",
      "Prompt after formatting:\n",
      "\u001b[32;1m\u001b[1;3mThe following is a conversation between Me and AI:\n",
      "\n",
      "\n",
      "\n",
      "Me: Teach me how to do a backflip in only 100 words\n",
      "AI:\u001b[0m\n",
      "\n",
      "\u001b[1m> Finished chain.\u001b[0m\n",
      "\"Ahaha, a backflip in 100 words? That's a challenge! Okay, here's a concise guide:\n",
      "\n",
      "1. Find a safe, open space with a soft landing surface.\n",
      "2. Stand with your feet shoulder-width apart, facing the direction you want to flip.\n",
      "3. Bend your knees, swing your arms back, and jump off the ground with both feet.\n",
      "4. As you're in the air, tuck your knees to your chest and extend your body.\n",
      "5. Rotate your body 360 degrees, keeping your arms and legs straight.\n",
      "6. Extend your body again, and land on both feet with your knees bent to absorb the impact.\n",
      "\n",
      "Remember, practice makes perfect! Start with a smaller flip and work your way up.\"\n"
     ]
    }
   ],
   "source": [
    "from langchain.chains import ConversationChain\n",
    "from langchain.prompts import PromptTemplate\n",
    "from langchain.memory import ConversationBufferMemory\n",
    "from dotenv import load_dotenv\n",
    "\n",
    "# Load environment variables\n",
    "load_dotenv()\n",
    "\n",
    "# Define the prompt template\n",
    "prompt = PromptTemplate(\n",
    "    input_variables=[\"history\", \"input\"],  # Include 'history'\n",
    "    template=\"The following is a conversation between Me and AI:\\n\\n{history}\\n\\nMe: {input}\\nAI:\"\n",
    ")\n",
    "\n",
    "# Set up memory\n",
    "memory = ConversationBufferMemory(\n",
    "    return_messages=False,\n",
    "    ai_prefix='AI',\n",
    "    human_prefix='Me'\n",
    ")\n",
    "\n",
    "# Instantiate the LLMChain\n",
    "conversation = ConversationChain(\n",
    "    llm=llm,\n",
    "    prompt=prompt,\n",
    "    verbose=True,\n",
    "    memory=memory\n",
    ")\n",
    "\n",
    "# Start the conversation\n",
    "response = conversation.predict(input=\"Teach me how to do a backflip in only 100 words\")\n",
    "print(response)\n"
   ]
  },
  {
   "cell_type": "code",
   "execution_count": 4,
   "metadata": {},
   "outputs": [
    {
     "name": "stdout",
     "output_type": "stream",
     "text": [
      "\n",
      "\n",
      "\u001b[1m> Entering new ConversationChain chain...\u001b[0m\n",
      "Prompt after formatting:\n",
      "\u001b[32;1m\u001b[1;3mThe following is a conversation between Me and AI:\n",
      "\n",
      "Me: Teach me how to do a backflip in only 100 words\n",
      "AI: \"Ahaha, a backflip in 100 words? That's a challenge! Okay, here's a concise guide:\n",
      "\n",
      "1. Find a safe, open space with a soft landing surface.\n",
      "2. Stand with your feet shoulder-width apart, facing the direction you want to flip.\n",
      "3. Bend your knees, swing your arms back, and jump off the ground with both feet.\n",
      "4. As you're in the air, tuck your knees to your chest and extend your body.\n",
      "5. Rotate your body 360 degrees, keeping your arms and legs straight.\n",
      "6. Extend your body again, and land on both feet with your knees bent to absorb the impact.\n",
      "\n",
      "Remember, practice makes perfect! Start with a smaller flip and work your way up.\"\n",
      "\n",
      "Me: What did I ask you before\n",
      "AI:\u001b[0m\n",
      "\n",
      "\u001b[1m> Finished chain.\u001b[0m\n",
      "You asked me to teach you how to do a backflip in only 100 words.\n"
     ]
    }
   ],
   "source": [
    "response = conversation.predict(input=\"What did I ask you before\")\n",
    "print(response)"
   ]
  },
  {
   "cell_type": "code",
   "execution_count": 5,
   "metadata": {},
   "outputs": [
    {
     "name": "stdout",
     "output_type": "stream",
     "text": [
      "Me: Teach me how to do a backflip in only 100 words\n",
      "AI: \"Ahaha, a backflip in 100 words? That's a challenge! Okay, here's a concise guide:\n",
      "\n",
      "1. Find a safe, open space with a soft landing surface.\n",
      "2. Stand with your feet shoulder-width apart, facing the direction you want to flip.\n",
      "3. Bend your knees, swing your arms back, and jump off the ground with both feet.\n",
      "4. As you're in the air, tuck your knees to your chest and extend your body.\n",
      "5. Rotate your body 360 degrees, keeping your arms and legs straight.\n",
      "6. Extend your body again, and land on both feet with your knees bent to absorb the impact.\n",
      "\n",
      "Remember, practice makes perfect! Start with a smaller flip and work your way up.\"\n",
      "Me: What did I ask you before\n",
      "AI: You asked me to teach you how to do a backflip in only 100 words.\n"
     ]
    }
   ],
   "source": [
    "print(memory.buffer)"
   ]
  },
  {
   "cell_type": "markdown",
   "metadata": {},
   "source": [
    "`Advanced: LangGraph`"
   ]
  },
  {
   "cell_type": "code",
   "execution_count": 6,
   "metadata": {},
   "outputs": [],
   "source": [
    "from typing import Annotated\n",
    "\n",
    "from langchain_groq import ChatGroq\n",
    "from langchain_community.tools.tavily_search import TavilySearchResults\n",
    "from langchain_core.messages import BaseMessage\n",
    "from typing_extensions import TypedDict\n",
    "\n",
    "from langgraph.checkpoint.memory import MemorySaver\n",
    "from langgraph.graph import StateGraph, START, END\n",
    "from langgraph.graph.message import add_messages\n",
    "\n",
    "from dotenv import load_dotenv\n",
    "load_dotenv()\n",
    "\n",
    "memory = MemorySaver()\n",
    "\n",
    "class State(TypedDict):\n",
    "    messages: Annotated[list, add_messages]\n",
    "\n",
    "\n",
    "graph_builder = StateGraph(State)\n",
    "\n",
    "llm = ChatGroq(\n",
    "    model=\"llama3-8b-8192\",\n",
    "    temperature=0.5,\n",
    "    max_tokens=None,\n",
    "    timeout=None,\n",
    "    max_retries=2,\n",
    ")\n",
    "\n",
    "def chatbot(state: State):\n",
    "    return {\"messages\": [llm.invoke(state[\"messages\"])]}\n",
    "\n",
    "graph_builder.add_node(\"chatbot\", chatbot)\n",
    "\n",
    "graph_builder.add_edge(START, \"chatbot\")\n",
    "graph_builder.add_edge(\"chatbot\", END)\n",
    "\n",
    "graph = graph_builder.compile(checkpointer=memory)"
   ]
  },
  {
   "cell_type": "code",
   "execution_count": 7,
   "metadata": {},
   "outputs": [],
   "source": [
    "config = {\"configurable\": {\"thread_id\": \"4\"}}"
   ]
  },
  {
   "cell_type": "code",
   "execution_count": 8,
   "metadata": {},
   "outputs": [
    {
     "name": "stdout",
     "output_type": "stream",
     "text": [
      "================================\u001b[1m Human Message \u001b[0m=================================\n",
      "\n",
      "Teach me how to do a backflip\n",
      "==================================\u001b[1m Ai Message \u001b[0m==================================\n",
      "\n",
      "The backflip! It's an impressive and exciting move that requires practice, patience, and proper technique. I'll guide you through the steps to help you master the backflip. Please note that it's essential to warm up before attempting any new exercise or movement, and to start with a lower height and gradually increase it as you build confidence and skill.\n",
      "\n",
      "**Preparation**\n",
      "\n",
      "1. **Find a safe space**: Look for a large, open area with a soft surface, such as a grassy field, a gymnastics mat, or a spring floor. Avoid hard surfaces like concrete or wood, as they can cause injury.\n",
      "2. **Warm up**: Do some light cardio and stretching exercises to get your body ready for the movement. Focus on your legs, back, and core muscles.\n",
      "3. **Get comfortable with the movement**: Start by practicing the motion without actually flipping. Stand with your feet shoulder-width apart, then bend your knees and swing your arms back. As you swing your arms forward, imagine yourself flipping backward. Repeat this motion several times to get a feel for the movement.\n",
      "\n",
      "**The Backflip Technique**\n",
      "\n",
      "1. **Approach the jump**: Stand with your feet shoulder-width apart, facing the direction you want to flip. Take a few steps back, keeping your knees slightly bent, to build up momentum.\n",
      "2. **Bend your knees**: As you approach the jump, bend your knees and lower your center of gravity. This will help you generate power and control.\n",
      "3. **Swing your arms**: Swing your arms back and then forward, using your momentum to propel yourself upward. Keep your arms straight and your elbows slightly bent.\n",
      "4. **Tuck and kick**: As you leave the ground, tuck your chin to your chest and bring your knees up towards your chest. This will help you rotate your body and maintain control.\n",
      "5. **Extend and land**: Extend your body, keeping your arms and legs straight, and land on both feet. Try to absorb the impact by bending your knees and rolling forward.\n",
      "\n",
      "**Tips and Safety Considerations**\n",
      "\n",
      "1. **Start low**: Begin with a lower height and gradually increase it as you build confidence and skill.\n",
      "2. **Focus on your landing**: Practice landing on both feet, with your knees bent to absorb the impact.\n",
      "3. **Keep your body straight**: Avoid twisting or rotating your body during the flip, as this can increase the risk of injury.\n",
      "4. **Use proper equipment**: If you're practicing on a spring floor or a trampoline, make sure it's securely set up and in good condition.\n",
      "5. **Get professional guidance**: Consider working with a qualified coach or instructor who can provide personalized feedback and help you improve your technique.\n",
      "\n",
      "**Common Mistakes to Avoid**\n",
      "\n",
      "1. **Not warming up properly**: Failing to warm up can lead to injuries, so make sure to do some light cardio and stretching exercises before attempting the backflip.\n",
      "2. **Not using proper technique**: Ignoring proper technique can lead to poor form, which can increase the risk of injury.\n",
      "3. **Not building up momentum**: Not generating enough power and momentum can make it difficult to complete the flip.\n",
      "4. **Not controlling the rotation**: Failing to control the rotation of your body during the flip can lead to loss of balance and potentially serious injury.\n",
      "\n",
      "Remember, practice makes perfect! Start with a lower height and gradually increase it as you build confidence and skill. Always prioritize safety and proper technique to avoid injury.\n"
     ]
    }
   ],
   "source": [
    "user_input = \"Teach me how to do a backflip\"\n",
    "\n",
    "events = graph.stream(\n",
    "    {\"messages\": [(\"user\", user_input)]}, config, stream_mode=\"values\"\n",
    ")\n",
    "for event in events:\n",
    "    event[\"messages\"][-1].pretty_print()"
   ]
  },
  {
   "cell_type": "code",
   "execution_count": 9,
   "metadata": {},
   "outputs": [
    {
     "name": "stdout",
     "output_type": "stream",
     "text": [
      "================================\u001b[1m Human Message \u001b[0m=================================\n",
      "\n",
      "What was the last question I asked you?\n",
      "==================================\u001b[1m Ai Message \u001b[0m==================================\n",
      "\n",
      "Your last question was \"Teach me how to do a backflip\".\n"
     ]
    }
   ],
   "source": [
    "user_input = \"What was the last question I asked you?\"\n",
    "\n",
    "events = graph.stream(\n",
    "    {\"messages\": [(\"user\", user_input)]}, config, stream_mode=\"values\"\n",
    ")\n",
    "for event in events:\n",
    "    event[\"messages\"][-1].pretty_print()"
   ]
  },
  {
   "cell_type": "code",
   "execution_count": null,
   "metadata": {},
   "outputs": [],
   "source": []
  }
 ],
 "metadata": {
  "kernelspec": {
   "display_name": "Python 3.11.5 64-bit",
   "language": "python",
   "name": "python3"
  },
  "language_info": {
   "codemirror_mode": {
    "name": "ipython",
    "version": 3
   },
   "file_extension": ".py",
   "mimetype": "text/x-python",
   "name": "python",
   "nbconvert_exporter": "python",
   "pygments_lexer": "ipython3",
   "version": "3.11.5"
  },
  "orig_nbformat": 4,
  "vscode": {
   "interpreter": {
    "hash": "e7421b2e8129b806acc53724fe4148ce7796e798f19ab33b4a2af02b8d0aa638"
   }
  }
 },
 "nbformat": 4,
 "nbformat_minor": 2
}
