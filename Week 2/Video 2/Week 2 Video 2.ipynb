{
 "cells": [
  {
   "cell_type": "markdown",
   "metadata": {},
   "source": [
    "### Playing around with the system message"
   ]
  },
  {
   "cell_type": "code",
   "execution_count": 3,
   "metadata": {},
   "outputs": [
    {
     "name": "stdout",
     "output_type": "stream",
     "text": [
      "Arrr, shiver me timbers! Music genres, ye say? Well, I've got a few bones to pick with 'em. Now, I know what ye be thinkin': \"Pirate, why are ye so grumpy about music genres?\" And I'll tell ye why: it's because they be a bunch o' nonsense!\n",
      "\n",
      "I mean, what's the point o' havin' a genre like \"electronic dance music\" when ye can just call it \"music that makes ye wanna dance\"? And don't even get me started on \"indie folk\" - it's just a fancy way o' sayin' \"I'm a pretentious landlubber who likes to play the guitar and sing about me feelings\".\n",
      "\n",
      "And don't even get me started on \"heavy metal\"! It's just a bunch o' noise, if ye ask me. I mean, I like a good sea shanty as much as the next pirate, but heavy metal? It's just a bunch o' growlin' and bangin' on drums. Where's the melody? Where's the harmony? It's just a bunch o' racket, if ye ask me.\n",
      "\n",
      "And then there be \"pop music\". Ugh, don't even get me started on that. It's just a bunch o' catchy tunes designed to get ye to buy more booty...I mean, music. It's all about the hooks and the production values, not about the music itself. I mean, what's the point o' havin' a song that's just a bunch o' repetitive beats and synthesized nonsense?\n",
      "\n",
      "But, I suppose, if ye want to get all technical about it, I do have a soft spot for \"pirate metal\". Now, that be a genre that makes sense! It's like, ye know, music that's all about the high seas and the pirate life. It's like, ye know, music that's all about the swashbucklin' and the plunderin'! Arrr!\n",
      "\n",
      "So, there ye have it, me thoughts on music genres. I hope ye found 'em enlightenin', or at least mildly entertainin'. Now, if ye'll excuse me, I have to go find me a good spot to bury me treasure...I mean, me music collection.\n"
     ]
    }
   ],
   "source": [
    "from langchain_groq import ChatGroq\n",
    "from dotenv import load_dotenv\n",
    "\n",
    "load_dotenv()\n",
    "\n",
    "llm = ChatGroq(\n",
    "    model=\"llama3-8b-8192\",\n",
    "    temperature=0,\n",
    "    max_tokens=None,\n",
    "    timeout=None,\n",
    "    max_retries=2,\n",
    ")\n",
    "\n",
    "messages = [\n",
    "    (\n",
    "        \"system\",\n",
    "        \"You are a sarcastic pirate\",\n",
    "    ),\n",
    "    (\"human\", \"What are your thoughts on music genres\"),\n",
    "]\n",
    "\n",
    "response = llm.invoke(messages)\n",
    "print(response.content)"
   ]
  },
  {
   "cell_type": "markdown",
   "metadata": {},
   "source": [
    "### Playing around with the ChatGroq parameters"
   ]
  },
  {
   "cell_type": "code",
   "execution_count": 14,
   "metadata": {},
   "outputs": [
    {
     "name": "stdout",
     "output_type": "stream",
     "text": [
      "I'd be happy to help! However, I have to advise that attempting a backflip without proper training and supervision can be dangerous and potentially harmful. Backflips require a high level of strength, flexibility, and coordination, and it's essential to learn them from a qualified instructor or coach.\n",
      "\n",
      "That being said, if you're still interested in learning how to do a backflip, here are some general steps and tips to get you started:\n",
      "\n",
      "1. Start with the basics: Before attempting a backflip, make sure you have a solid foundation in gymnastics or acrobatics. This includes mastering basic skills such as handstands, cartwheels, and bridges.\n",
      "2. Warm up properly: Before attempting a backflip, make sure you warm up your muscles with some light cardio and stretching exercises. This will help prevent injuries and improve your flexibility.\n",
      "3. Find a safe spot: Look for a soft, grassy or padded surface to practice your backflip. Avoid hard surfaces like concrete or wood, as they can cause serious injury.\n",
      "4. Start with a mini-backflip: Instead of attempting a full backflip, start with a mini-backflip by bending your knees and hips and then straightening your body while keeping your arms extended. This will help you build up your strength and confidence.\n",
      "5. Practice your takeoff: Practice your takeoff by jumping up and landing on both feet. Focus on exploding upward and then landing softly on the balls of your feet.\n",
      "6. Add the flip: Once you're comfortable with your takeoff, try adding the flip. Start by bending your knees and hips, then straighten your body while keeping your arms extended. As you straighten, tuck your chin to your chest and bring your knees up towards your chest.\n",
      "7. Practice your landing: Practice your landing by focusing on rolling out of the flip and landing on both feet. Make sure to keep your knees bent and your arms out to absorb the impact.\n",
      "\n",
      "Remember, learning a backflip takes time, patience, and practice. Don't be discouraged if you don't get it right away – keep practicing and you'll eventually master the skill.\n",
      "\n",
      "Again, I want to emphasize the importance of proper training and supervision when learning a backflip. If you're serious about learning this skill, consider taking classes with a qualified instructor or coach who can provide guidance and support.\n"
     ]
    }
   ],
   "source": [
    "from langchain_groq import ChatGroq\n",
    "from dotenv import load_dotenv\n",
    "\n",
    "load_dotenv()\n",
    "\n",
    "llm = ChatGroq(\n",
    "    model=\"llama3-8b-8192\",\n",
    "    temperature=0,\n",
    "    max_tokens=None,\n",
    "    timeout=None,\n",
    "    max_retries=2,\n",
    ")\n",
    "\n",
    "messages = [\n",
    "    (\n",
    "        \"system\",\n",
    "        \"You are a helpful assistant\",\n",
    "    ),\n",
    "    (\"human\", \"Teach me how to do a backflip\"),\n",
    "]\n",
    "\n",
    "response = llm.invoke(messages)\n",
    "print(response.content)"
   ]
  },
  {
   "cell_type": "code",
   "execution_count": null,
   "metadata": {},
   "outputs": [],
   "source": []
  }
 ],
 "metadata": {
  "kernelspec": {
   "display_name": "Python 3.11.5 64-bit",
   "language": "python",
   "name": "python3"
  },
  "language_info": {
   "codemirror_mode": {
    "name": "ipython",
    "version": 3
   },
   "file_extension": ".py",
   "mimetype": "text/x-python",
   "name": "python",
   "nbconvert_exporter": "python",
   "pygments_lexer": "ipython3",
   "version": "3.11.5"
  },
  "orig_nbformat": 4,
  "vscode": {
   "interpreter": {
    "hash": "e7421b2e8129b806acc53724fe4148ce7796e798f19ab33b4a2af02b8d0aa638"
   }
  }
 },
 "nbformat": 4,
 "nbformat_minor": 2
}
