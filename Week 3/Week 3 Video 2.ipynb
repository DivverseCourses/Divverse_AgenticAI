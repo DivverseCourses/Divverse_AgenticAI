{
 "cells": [
  {
   "cell_type": "markdown",
   "metadata": {},
   "source": [
    "`Without RAG`"
   ]
  },
  {
   "cell_type": "code",
   "execution_count": 1,
   "metadata": {},
   "outputs": [
    {
     "name": "stdout",
     "output_type": "stream",
     "text": [
      "I apologize, but I couldn't find any information on a person named Keyukemi Ubi making a statement about the year 2024. It's possible that the person is not a public figure or didn't make a notable statement about the year 2024. Can you provide more context or clarify who Keyukemi Ubi is?\n"
     ]
    }
   ],
   "source": [
    "from langchain_groq import ChatGroq\n",
    "from dotenv import load_dotenv\n",
    "\n",
    "load_dotenv()\n",
    "\n",
    "llm = ChatGroq(\n",
    "    model=\"llama3-8b-8192\",\n",
    "    temperature=0,\n",
    "    max_tokens=None,\n",
    "    timeout=None,\n",
    "    max_retries=2,\n",
    ")\n",
    "\n",
    "query = \"What did Keyukemi Ubi say about the year 2024?\"\n",
    "\n",
    "messages = [\n",
    "    (\"system\", \"You are a helpful assistant with access to relevant documents.\"),\n",
    "    (\"human\", f\"{query}\"),\n",
    "]\n",
    "\n",
    "response = llm.invoke(messages)\n",
    "print(response.content)"
   ]
  },
  {
   "cell_type": "markdown",
   "metadata": {},
   "source": [
    "`With RAG`"
   ]
  },
  {
   "cell_type": "code",
   "execution_count": 2,
   "metadata": {},
   "outputs": [
    {
     "name": "stderr",
     "output_type": "stream",
     "text": [
      "c:\\Users\\okwy_\\AppData\\Local\\Programs\\Python\\Python311\\Lib\\site-packages\\pinecone\\data\\index.py:1: TqdmWarning: IProgress not found. Please update jupyter and ipywidgets. See https://ipywidgets.readthedocs.io/en/stable/user_install.html\n",
      "  from tqdm.autonotebook import tqdm\n"
     ]
    }
   ],
   "source": [
    "from langchain_groq import ChatGroq\n",
    "from langchain.vectorstores import Pinecone as pc\n",
    "from langchain_openai import OpenAIEmbeddings\n",
    "from dotenv import load_dotenv\n",
    "from pinecone import Pinecone, ServerlessSpec\n",
    "\n",
    "load_dotenv()\n",
    "\n",
    "llm = ChatGroq(\n",
    "    model=\"llama3-8b-8192\",\n",
    "    temperature=0,\n",
    "    max_tokens=None,\n",
    "    timeout=None,\n",
    "    max_retries=2,\n",
    ")"
   ]
  },
  {
   "cell_type": "code",
   "execution_count": 3,
   "metadata": {},
   "outputs": [],
   "source": [
    "load_dotenv()\n",
    "\n",
    "pinecone = Pinecone()\n",
    "\n",
    "index_name = \"default-index\"\n",
    "if index_name not in pinecone.list_indexes():\n",
    "    pinecone.create_index(index_name, \n",
    "        dimension=1536,\n",
    "        spec=ServerlessSpec(\n",
    "            cloud='aws', region='us-east-1'))\n",
    "\n",
    "index = pinecone.Index(index_name)"
   ]
  },
  {
   "cell_type": "code",
   "execution_count": 4,
   "metadata": {},
   "outputs": [],
   "source": [
    "embeddings = OpenAIEmbeddings(model=\"text-embedding-ada-002\")\n",
    "\n",
    "documents = [\n",
    "    (r\"2024 A Diary Entry (That Probably Should Have Stayed in My Head) - VITU na VITU.txt\", open(r\"2024 A Diary Entry (That Probably Should Have Stayed in My Head) - VITU na VITU.txt\", \"r\", encoding=\"utf-8\").read(), {\"author\": \"VITU na VITU\"}),\n",
    "    (r\"Diary entries from Anhedonia - Keyukemi Ubi.txt\", open(r\"Diary entries from Anhedonia - Keyukemi Ubi.txt\", \"r\", encoding=\"utf-8\").read(), {\"author\": \"Keyukemi Ubi\"}),\n",
    "]"
   ]
  },
  {
   "cell_type": "code",
   "execution_count": 5,
   "metadata": {},
   "outputs": [],
   "source": [
    "from langchain_text_splitters import RecursiveCharacterTextSplitter\n",
    "\n",
    "text_splitter = RecursiveCharacterTextSplitter(\n",
    "    chunk_size=1000,\n",
    "    chunk_overlap=50\n",
    ")\n",
    "\n",
    "for doc_id, content, metadata in documents:\n",
    "    chunks = text_splitter.split_text(content) \n",
    "    for i, chunk in enumerate(chunks):\n",
    "        embedding = embeddings.embed_query(chunk)\n",
    "        chunk_metadata = metadata.copy()\n",
    "        chunk_metadata[\"chunk_index\"] = i\n",
    "        index.upsert([(f\"{doc_id}_{i}\", embedding, {\"content\": chunk, **chunk_metadata})])"
   ]
  },
  {
   "cell_type": "code",
   "execution_count": 8,
   "metadata": {},
   "outputs": [
    {
     "name": "stdout",
     "output_type": "stream",
     "text": [
      "According to the documents, Vitu na Vitu said:\n",
      "\n",
      "\"I can’t even begin to tell you how I feel about 2024. Not because it’s hard to articulate, but because part of my brain has chosen vibes over storage. Some memories are fried and deleted — like a phone app clearing space because too much trauma detected. It’s my brain’s way of saying, “That’s above my pay grade.”\"\n",
      "\n",
      "It seems that Vitu na Vitu is expressing a sense of overwhelm and trauma related to the year 2024, and is struggling to process their emotions about it.\n"
     ]
    }
   ],
   "source": [
    "query = \"What did Vitu na Vitu say about the year 2024?\"\n",
    "query_embedding = embeddings.embed_query(query)\n",
    "results = index.query(\n",
    "    vector=query_embedding,\n",
    "    top_k=6,\n",
    "    include_metadata=True\n",
    ")\n",
    "\n",
    "retrieved_contents = [(result[\"metadata\"][\"author\"],result[\"metadata\"][\"content\"]) for result in results[\"matches\"]]\n",
    "\n",
    "messages = [\n",
    "    (\"system\", \"You are a helpful assistant with access to relevant documents.\"),\n",
    "    (\"human\", f\"The following documents may help:\\n\\n {retrieved_contents}.\\n\\n Now, {query}\"),\n",
    "]\n",
    "\n",
    "response = llm.invoke(messages)\n",
    "print(response.content)"
   ]
  },
  {
   "cell_type": "code",
   "execution_count": null,
   "metadata": {},
   "outputs": [],
   "source": []
  }
 ],
 "metadata": {
  "kernelspec": {
   "display_name": "Python 3.11.5 64-bit",
   "language": "python",
   "name": "python3"
  },
  "language_info": {
   "codemirror_mode": {
    "name": "ipython",
    "version": 3
   },
   "file_extension": ".py",
   "mimetype": "text/x-python",
   "name": "python",
   "nbconvert_exporter": "python",
   "pygments_lexer": "ipython3",
   "version": "3.11.5"
  },
  "orig_nbformat": 4,
  "vscode": {
   "interpreter": {
    "hash": "e7421b2e8129b806acc53724fe4148ce7796e798f19ab33b4a2af02b8d0aa638"
   }
  }
 },
 "nbformat": 4,
 "nbformat_minor": 2
}
