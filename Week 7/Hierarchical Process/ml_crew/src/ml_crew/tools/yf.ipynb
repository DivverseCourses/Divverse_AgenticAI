{
 "cells": [
  {
   "cell_type": "code",
   "execution_count": 18,
   "metadata": {},
   "outputs": [
    {
     "name": "stdout",
     "output_type": "stream",
     "text": [
      "Price            Close        High         Low        Open    Volume\n",
      "2024-01-25  193.223404  195.313172  192.168574  194.268288  54822100\n",
      "2024-01-26  191.481918  193.810507  191.004263  193.322905  44594000\n",
      "2024-01-29  190.795273  191.262983  188.655761  191.073907  47145600\n",
      "2024-01-30  187.123276  190.864955  186.556062  190.009147  55859400\n",
      "2024-01-31  183.501022  186.187872  183.451278  186.128151  55467800\n"
     ]
    }
   ],
   "source": [
    "import yfinance as yf\n",
    "import pandas as pd\n",
    "from datetime import datetime, timedelta\n",
    "\n",
    "def get_daily_stock_price_history(ticker):\n",
    "    \"\"\"\n",
    "    Fetch the daily stock price history for a given stock ticker using Yahoo Finance.\n",
    "\n",
    "    Args:\n",
    "        ticker (str): The stock ticker symbol (e.g., 'AAPL' for Apple).\n",
    "\n",
    "    Returns:\n",
    "        pd.DataFrame: A DataFrame containing the stock price history with columns for Open, High, Low, Close, Volume, etc.\n",
    "                      Returns None if the ticker is invalid or data is unavailable.\n",
    "    \"\"\"\n",
    "    try:\n",
    "        # Calculate the date range (1 year before today to today)\n",
    "        end_date = datetime.now().strftime('%Y-%m-%d')\n",
    "        start_date = (datetime.now() - timedelta(days=365)).strftime('%Y-%m-%d')\n",
    "\n",
    "        # Fetch the stock data using yfinance\n",
    "        stock_data = yf.download(ticker, start=start_date, end=end_date, progress=False)\n",
    "\n",
    "        # Check if data is fetched successfully\n",
    "        if stock_data.empty:\n",
    "            print(f\"No data found for ticker '{ticker}'. Please check the ticker symbol or the date range.\")\n",
    "            return None\n",
    "\n",
    "        # Drop the \"Date\" index name and \"Ticker\" column if present\n",
    "        stock_data.index.name = None\n",
    "        if 'Ticker' in stock_data.columns:\n",
    "            stock_data = stock_data.drop(columns=['Ticker'])\n",
    "\n",
    "        stock_data.columns = stock_data.columns.droplevel('Ticker')\n",
    "        # Return the cleaned stock data\n",
    "        return stock_data.iloc[:100]\n",
    "\n",
    "    except Exception as e:\n",
    "        return f\"An error occurred while fetching data for ticker '{ticker}': {e}\"\n",
    "\n",
    "# Example usage\n",
    "if __name__ == \"__main__\":\n",
    "    ticker = \"AAPL\"  # Replace with the desired stock ticker\n",
    "\n",
    "    stock_history = get_daily_stock_price_history(ticker)\n",
    "\n",
    "    if stock_history is not None:\n",
    "        print(stock_history.head())"
   ]
  },
  {
   "cell_type": "code",
   "execution_count": 70,
   "metadata": {},
   "outputs": [
    {
     "name": "stdout",
     "output_type": "stream",
     "text": [
      "LLM value is an unknown object\n"
     ]
    },
    {
     "ename": "ValidationError",
     "evalue": "2 validation errors for Task\nexpected_output\n  Field required [type=missing, input_value={'description': 'Identify...t 0x000002BCB113F6A0>)]}, input_type=dict]\n    For further information visit https://errors.pydantic.dev/2.10/v/missing\ntools.0\n  Input should be a valid dictionary or instance of BaseTool [type=model_type, input_value=StructuredTool(name='Exec... at 0x000002BCB113F6A0>), input_type=StructuredTool]\n    For further information visit https://errors.pydantic.dev/2.10/v/model_type",
     "output_type": "error",
     "traceback": [
      "\u001b[1;31m---------------------------------------------------------------------------\u001b[0m",
      "\u001b[1;31mValidationError\u001b[0m                           Traceback (most recent call last)",
      "Cell \u001b[1;32mIn[70], line 29\u001b[0m\n\u001b[0;32m     19\u001b[0m cli_agent \u001b[39m=\u001b[39m Agent(\n\u001b[0;32m     20\u001b[0m     role\u001b[39m=\u001b[39m\u001b[39m'\u001b[39m\u001b[39mSoftware Engineer\u001b[39m\u001b[39m'\u001b[39m,\n\u001b[0;32m     21\u001b[0m     goal\u001b[39m=\u001b[39m\u001b[39m'\u001b[39m\u001b[39mAlways use Executor Tool. Ability to perform CLI operations, write programs and execute using Exector Tool\u001b[39m\u001b[39m'\u001b[39m,\n\u001b[1;32m   (...)\u001b[0m\n\u001b[0;32m     25\u001b[0m     llm\u001b[39m=\u001b[39mllm \n\u001b[0;32m     26\u001b[0m )\n\u001b[0;32m     28\u001b[0m \u001b[39m# 3. Defining a Task for CLI operations\u001b[39;00m\n\u001b[1;32m---> 29\u001b[0m cli_task \u001b[39m=\u001b[39m Task(\n\u001b[0;32m     30\u001b[0m     description\u001b[39m=\u001b[39;49m\u001b[39m'\u001b[39;49m\u001b[39mIdentify the OS and then empty my recycle bin\u001b[39;49m\u001b[39m'\u001b[39;49m,\n\u001b[0;32m     31\u001b[0m     agent\u001b[39m=\u001b[39;49mcli_agent,\n\u001b[0;32m     32\u001b[0m     tools\u001b[39m=\u001b[39;49m[CLITool\u001b[39m.\u001b[39;49mexecute_cli_command]\n\u001b[0;32m     33\u001b[0m )\n\u001b[0;32m     35\u001b[0m \u001b[39m# 4. Creating a Crew with CLI focus\u001b[39;00m\n\u001b[0;32m     36\u001b[0m cli_crew \u001b[39m=\u001b[39m Crew(\n\u001b[0;32m     37\u001b[0m     agents\u001b[39m=\u001b[39m[cli_agent],\n\u001b[0;32m     38\u001b[0m     tasks\u001b[39m=\u001b[39m[cli_task],\n\u001b[0;32m     39\u001b[0m     process\u001b[39m=\u001b[39mProcess\u001b[39m.\u001b[39msequential,\n\u001b[0;32m     40\u001b[0m     manager_llm\u001b[39m=\u001b[39mllm\n\u001b[0;32m     41\u001b[0m )\n",
      "File \u001b[1;32mc:\\Users\\okwy_\\AppData\\Local\\Programs\\Python\\Python311\\Lib\\site-packages\\pydantic\\main.py:214\u001b[0m, in \u001b[0;36mBaseModel.__init__\u001b[1;34m(self, **data)\u001b[0m\n\u001b[0;32m    212\u001b[0m \u001b[39m# `__tracebackhide__` tells pytest and some other tools to omit this function from tracebacks\u001b[39;00m\n\u001b[0;32m    213\u001b[0m __tracebackhide__ \u001b[39m=\u001b[39m \u001b[39mTrue\u001b[39;00m\n\u001b[1;32m--> 214\u001b[0m validated_self \u001b[39m=\u001b[39m \u001b[39mself\u001b[39;49m\u001b[39m.\u001b[39;49m__pydantic_validator__\u001b[39m.\u001b[39;49mvalidate_python(data, self_instance\u001b[39m=\u001b[39;49m\u001b[39mself\u001b[39;49m)\n\u001b[0;32m    215\u001b[0m \u001b[39mif\u001b[39;00m \u001b[39mself\u001b[39m \u001b[39mis\u001b[39;00m \u001b[39mnot\u001b[39;00m validated_self:\n\u001b[0;32m    216\u001b[0m     warnings\u001b[39m.\u001b[39mwarn(\n\u001b[0;32m    217\u001b[0m         \u001b[39m'\u001b[39m\u001b[39mA custom validator is returning a value other than `self`.\u001b[39m\u001b[39m\\n\u001b[39;00m\u001b[39m'\u001b[39m\n\u001b[0;32m    218\u001b[0m         \u001b[39m\"\u001b[39m\u001b[39mReturning anything other than `self` from a top level model validator isn\u001b[39m\u001b[39m'\u001b[39m\u001b[39mt supported when validating via `__init__`.\u001b[39m\u001b[39m\\n\u001b[39;00m\u001b[39m\"\u001b[39m\n\u001b[0;32m    219\u001b[0m         \u001b[39m'\u001b[39m\u001b[39mSee the `model_validator` docs (https://docs.pydantic.dev/latest/concepts/validators/#model-validators) for more details.\u001b[39m\u001b[39m'\u001b[39m,\n\u001b[0;32m    220\u001b[0m         stacklevel\u001b[39m=\u001b[39m\u001b[39m2\u001b[39m,\n\u001b[0;32m    221\u001b[0m     )\n",
      "\u001b[1;31mValidationError\u001b[0m: 2 validation errors for Task\nexpected_output\n  Field required [type=missing, input_value={'description': 'Identify...t 0x000002BCB113F6A0>)]}, input_type=dict]\n    For further information visit https://errors.pydantic.dev/2.10/v/missing\ntools.0\n  Input should be a valid dictionary or instance of BaseTool [type=model_type, input_value=StructuredTool(name='Exec... at 0x000002BCB113F6A0>), input_type=StructuredTool]\n    For further information visit https://errors.pydantic.dev/2.10/v/model_type"
     ]
    }
   ],
   "source": [
    "from crewai import Agent, Task, Crew, Process\n",
    "from interpreter import interpreter\n",
    "from langchain.tools import tool\n",
    "from langchain_openai import ChatOpenAI\n",
    "\n",
    "# 1. Configuration and Tools\n",
    "llm = ChatOpenAI(model=\"gpt-4-turbo-preview\")\n",
    "interpreter.auto_run = True\n",
    "interpreter.llm.model = \"openai/gpt-4-turbo-preview\"\n",
    "\n",
    "class CLITool:\n",
    "    @tool(\"Executor\")\n",
    "    def execute_cli_command(command: str):\n",
    "        \"\"\"Create and Execute code using Open Interpreter.\"\"\"\n",
    "        result = interpreter.chat(command)\n",
    "        return result\n",
    "\n",
    "# 2. Creating an Agent for CLI tasks\n",
    "cli_agent = Agent(\n",
    "    role='Software Engineer',\n",
    "    goal='Always use Executor Tool. Ability to perform CLI operations, write programs and execute using Exector Tool',\n",
    "    backstory='Expert in command line operations, creating and executing code.',\n",
    "    tools=[CLITool.execute_cli_command],\n",
    "    verbose=True,\n",
    "    llm=llm \n",
    ")\n",
    "\n",
    "# 3. Defining a Task for CLI operations\n",
    "cli_task = Task(\n",
    "    description='Identify the OS and then empty my recycle bin',\n",
    "    agent=cli_agent,\n",
    "    tools=[CLITool.execute_cli_command]\n",
    ")\n",
    "\n",
    "# 4. Creating a Crew with CLI focus\n",
    "cli_crew = Crew(\n",
    "    agents=[cli_agent],\n",
    "    tasks=[cli_task],\n",
    "    process=Process.sequential,\n",
    "    manager_llm=llm\n",
    ")\n",
    "\n",
    "# 5. Run the Crew\n",
    "result = cli_crew.kickoff()\n",
    "print(result)"
   ]
  },
  {
   "cell_type": "code",
   "execution_count": null,
   "metadata": {},
   "outputs": [],
   "source": []
  }
 ],
 "metadata": {
  "kernelspec": {
   "display_name": "Python 3.11.5 64-bit",
   "language": "python",
   "name": "python3"
  },
  "language_info": {
   "codemirror_mode": {
    "name": "ipython",
    "version": 3
   },
   "file_extension": ".py",
   "mimetype": "text/x-python",
   "name": "python",
   "nbconvert_exporter": "python",
   "pygments_lexer": "ipython3",
   "version": "3.11.5"
  },
  "orig_nbformat": 4,
  "vscode": {
   "interpreter": {
    "hash": "e7421b2e8129b806acc53724fe4148ce7796e798f19ab33b4a2af02b8d0aa638"
   }
  }
 },
 "nbformat": 4,
 "nbformat_minor": 2
}
